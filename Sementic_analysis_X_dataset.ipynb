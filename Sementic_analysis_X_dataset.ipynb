{
  "cells": [
    {
      "cell_type": "markdown",
      "metadata": {
        "id": "92UuAlMT6PbG"
      },
      "source": [
        "Importing modules"
      ]
    },
    {
      "cell_type": "code",
      "execution_count": 2,
      "metadata": {
        "id": "dAmz35Ar6PbH"
      },
      "outputs": [],
      "source": [
        "import pandas as pd\n",
        "import matplotlib.pyplot as plt"
      ]
    },
    {
      "cell_type": "code",
      "execution_count": 3,
      "metadata": {
        "colab": {
          "base_uri": "https://localhost:8080/",
          "height": 206
        },
        "id": "FVit4va36PbI",
        "outputId": "cb490296-c981-4920-da26-749b75d09a8a"
      },
      "outputs": [
        {
          "data": {
            "text/html": [
              "<div>\n",
              "<style scoped>\n",
              "    .dataframe tbody tr th:only-of-type {\n",
              "        vertical-align: middle;\n",
              "    }\n",
              "\n",
              "    .dataframe tbody tr th {\n",
              "        vertical-align: top;\n",
              "    }\n",
              "\n",
              "    .dataframe thead th {\n",
              "        text-align: right;\n",
              "    }\n",
              "</style>\n",
              "<table border=\"1\" class=\"dataframe\">\n",
              "  <thead>\n",
              "    <tr style=\"text-align: right;\">\n",
              "      <th></th>\n",
              "      <th>clean_text</th>\n",
              "      <th>category</th>\n",
              "    </tr>\n",
              "  </thead>\n",
              "  <tbody>\n",
              "    <tr>\n",
              "      <th>0</th>\n",
              "      <td>when modi promised “minimum government maximum...</td>\n",
              "      <td>-1.0</td>\n",
              "    </tr>\n",
              "    <tr>\n",
              "      <th>1</th>\n",
              "      <td>talk all the nonsense and continue all the dra...</td>\n",
              "      <td>0.0</td>\n",
              "    </tr>\n",
              "    <tr>\n",
              "      <th>2</th>\n",
              "      <td>what did just say vote for modi  welcome bjp t...</td>\n",
              "      <td>1.0</td>\n",
              "    </tr>\n",
              "    <tr>\n",
              "      <th>3</th>\n",
              "      <td>asking his supporters prefix chowkidar their n...</td>\n",
              "      <td>1.0</td>\n",
              "    </tr>\n",
              "    <tr>\n",
              "      <th>4</th>\n",
              "      <td>answer who among these the most powerful world...</td>\n",
              "      <td>1.0</td>\n",
              "    </tr>\n",
              "  </tbody>\n",
              "</table>\n",
              "</div>"
            ],
            "text/plain": [
              "                                          clean_text  category\n",
              "0  when modi promised “minimum government maximum...      -1.0\n",
              "1  talk all the nonsense and continue all the dra...       0.0\n",
              "2  what did just say vote for modi  welcome bjp t...       1.0\n",
              "3  asking his supporters prefix chowkidar their n...       1.0\n",
              "4  answer who among these the most powerful world...       1.0"
            ]
          },
          "execution_count": 3,
          "metadata": {},
          "output_type": "execute_result"
        }
      ],
      "source": [
        "df = pd.read_csv('X data.csv')\n",
        "df.head()"
      ]
    },
    {
      "cell_type": "code",
      "execution_count": 4,
      "metadata": {
        "colab": {
          "base_uri": "https://localhost:8080/"
        },
        "id": "sdHlpLqF7RNz",
        "outputId": "c2c5b735-70f4-4737-9394-4c58904f9c24"
      },
      "outputs": [
        {
          "data": {
            "text/plain": [
              "(162980, 2)"
            ]
          },
          "execution_count": 4,
          "metadata": {},
          "output_type": "execute_result"
        }
      ],
      "source": [
        "df.shape"
      ]
    },
    {
      "cell_type": "code",
      "execution_count": 5,
      "metadata": {
        "colab": {
          "base_uri": "https://localhost:8080/",
          "height": 209
        },
        "id": "I-UWworM6PbJ",
        "outputId": "9fcf300b-8566-4a1f-d18e-d934bdf3031c"
      },
      "outputs": [
        {
          "data": {
            "text/plain": [
              "category\n",
              " 1.0    72250\n",
              " 0.0    55213\n",
              "-1.0    35510\n",
              "Name: count, dtype: int64"
            ]
          },
          "execution_count": 5,
          "metadata": {},
          "output_type": "execute_result"
        }
      ],
      "source": [
        "df.category.value_counts()"
      ]
    },
    {
      "cell_type": "code",
      "execution_count": 6,
      "metadata": {
        "colab": {
          "base_uri": "https://localhost:8080/",
          "height": 209
        },
        "id": "oq2MsHSh7d4G",
        "outputId": "21fc87e7-0a0b-48ef-a671-9492cb216c03"
      },
      "outputs": [
        {
          "data": {
            "text/plain": [
              "clean_text  category\n",
              "False       False       162969\n",
              "            True             7\n",
              "True        False            4\n",
              "Name: count, dtype: int64"
            ]
          },
          "execution_count": 6,
          "metadata": {},
          "output_type": "execute_result"
        }
      ],
      "source": [
        "df.isna().value_counts()"
      ]
    },
    {
      "cell_type": "code",
      "execution_count": 7,
      "metadata": {
        "id": "SEBjzg3_6PbJ"
      },
      "outputs": [],
      "source": [
        "df.dropna(subset=['clean_text', 'category'], inplace=True)"
      ]
    },
    {
      "cell_type": "code",
      "execution_count": 8,
      "metadata": {
        "colab": {
          "base_uri": "https://localhost:8080/"
        },
        "id": "HyzG5PB-7akq",
        "outputId": "4ee52a15-8941-4663-d82c-547c6e322f6d"
      },
      "outputs": [
        {
          "data": {
            "text/plain": [
              "(162969, 2)"
            ]
          },
          "execution_count": 8,
          "metadata": {},
          "output_type": "execute_result"
        }
      ],
      "source": [
        "df.shape"
      ]
    },
    {
      "cell_type": "code",
      "execution_count": 9,
      "metadata": {
        "id": "gx4g2IWg7uk9"
      },
      "outputs": [],
      "source": [
        "import re\n",
        "# regularExpression\n",
        "\n",
        "def cleaning(text):\n",
        "    # Remove URLs, mentions, hashtags, and non-alphanumeric characters\n",
        "    text = re.sub(r'http\\S+|www\\S+|https\\S+', '', text)  # Remove URLs\n",
        "    text = re.sub(r'@\\w+', '', text)  # Remove mentions (@user)\n",
        "    text = re.sub(r'#\\w+', '', text)  # Remove hashtags\n",
        "    text = re.sub(r'[^a-zA-Z\\s]', '', text)  # Remove non-alphabetic characters\n",
        "    text = text.lower()  # Convert to lowercase\n",
        "    return text\n",
        "\n",
        "df['clean_text'] = df['clean_text'].apply(cleaning)\n"
      ]
    },
    {
      "cell_type": "code",
      "execution_count": 10,
      "metadata": {
        "id": "Pf0M1rBU9rkY"
      },
      "outputs": [],
      "source": [
        "from nltk.tokenize import word_tokenize"
      ]
    },
    {
      "cell_type": "code",
      "execution_count": 11,
      "metadata": {
        "colab": {
          "base_uri": "https://localhost:8080/"
        },
        "id": "f2KXHBl_99hB",
        "outputId": "5f55f1a7-d882-4267-d6e4-08d9f0b2c99c"
      },
      "outputs": [
        {
          "name": "stderr",
          "output_type": "stream",
          "text": [
            "[nltk_data] Downloading package punkt_tab to C:\\Users\\Aditya\n",
            "[nltk_data]     bhoir\\AppData\\Roaming\\nltk_data...\n",
            "[nltk_data]   Unzipping tokenizers\\punkt_tab.zip.\n"
          ]
        }
      ],
      "source": [
        "import nltk\n",
        "nltk.download('punkt_tab')\n",
        "\n",
        "df['tokens'] = df['clean_text'].apply(word_tokenize)\n",
        "# a nested list of words per tweet"
      ]
    },
    {
      "cell_type": "code",
      "execution_count": 12,
      "metadata": {
        "id": "1FUuw_f2-I3n"
      },
      "outputs": [],
      "source": [
        "from nltk.corpus import stopwords"
      ]
    },
    {
      "cell_type": "code",
      "execution_count": 13,
      "metadata": {
        "colab": {
          "base_uri": "https://localhost:8080/"
        },
        "id": "OF5Gcfxz-OTZ",
        "outputId": "86b19429-eafd-4eea-dfa2-5eeaa06d947a"
      },
      "outputs": [
        {
          "name": "stderr",
          "output_type": "stream",
          "text": [
            "[nltk_data] Downloading package stopwords to C:\\Users\\Aditya\n",
            "[nltk_data]     bhoir\\AppData\\Roaming\\nltk_data...\n",
            "[nltk_data]   Unzipping corpora\\stopwords.zip.\n"
          ]
        }
      ],
      "source": [
        "import nltk\n",
        "nltk.download('stopwords')\n",
        "\n",
        "stop_words = set(stopwords.words('english'))"
      ]
    },
    {
      "cell_type": "code",
      "execution_count": 14,
      "metadata": {
        "colab": {
          "base_uri": "https://localhost:8080/",
          "height": 458
        },
        "id": "zYdD-9oQN-Vh",
        "outputId": "7bc41652-7744-46b7-bd96-4093ba506e43"
      },
      "outputs": [
        {
          "data": {
            "text/plain": [
              "0         [when, modi, promised, minimum, government, ma...\n",
              "1         [talk, all, the, nonsense, and, continue, all,...\n",
              "2         [what, did, just, say, vote, for, modi, welcom...\n",
              "3         [asking, his, supporters, prefix, chowkidar, t...\n",
              "4         [answer, who, among, these, the, most, powerfu...\n",
              "                                ...                        \n",
              "162975    [why, these, crores, paid, neerav, modi, not, ...\n",
              "162976    [dear, rss, terrorist, payal, gawar, what, abo...\n",
              "162977    [did, you, cover, her, interaction, forum, whe...\n",
              "162978    [there, big, project, came, into, india, modi,...\n",
              "162979    [have, you, ever, listen, about, like, gurukul...\n",
              "Name: tokens, Length: 162969, dtype: object"
            ]
          },
          "execution_count": 14,
          "metadata": {},
          "output_type": "execute_result"
        }
      ],
      "source": [
        "df['tokens']"
      ]
    },
    {
      "cell_type": "code",
      "execution_count": 15,
      "metadata": {
        "id": "ey3-yGFd-MFq"
      },
      "outputs": [],
      "source": [
        "def remove_stopwords(tokens):\n",
        "    nsw_tokens = [word for word in tokens if word not in stop_words]\n",
        "\n",
        "    return \" \".join(nsw_tokens)\n",
        "\n",
        "df['clean_text'] = df['tokens'].apply(remove_stopwords)"
      ]
    },
    {
      "cell_type": "code",
      "execution_count": 16,
      "metadata": {
        "colab": {
          "base_uri": "https://localhost:8080/",
          "height": 458
        },
        "id": "peEdTPV_EXyo",
        "outputId": "0baeb0d6-b41e-4cc5-e455-451029544de8"
      },
      "outputs": [
        {
          "data": {
            "text/plain": [
              "0         modi promised minimum government maximum gover...\n",
              "1                    talk nonsense continue drama vote modi\n",
              "2         say vote modi welcome bjp told rahul main camp...\n",
              "3         asking supporters prefix chowkidar names modi ...\n",
              "4         answer among powerful world leader today trump...\n",
              "                                ...                        \n",
              "162975    crores paid neerav modi recovered congress lea...\n",
              "162976    dear rss terrorist payal gawar modi killing pl...\n",
              "162977                         cover interaction forum left\n",
              "162978    big project came india modi dream project happ...\n",
              "162979    ever listen like gurukul discipline maintained...\n",
              "Name: clean_text, Length: 162969, dtype: object"
            ]
          },
          "execution_count": 16,
          "metadata": {},
          "output_type": "execute_result"
        }
      ],
      "source": [
        "df['clean_text']"
      ]
    },
    {
      "cell_type": "code",
      "execution_count": 18,
      "metadata": {
        "id": "jI-NUUDL-rz3"
      },
      "outputs": [],
      "source": [
        "# TF-IDF Vectorization\n",
        "from sklearn.feature_extraction.text import TfidfVectorizer\n",
        "\n",
        "tfidf_vectorizer = TfidfVectorizer(max_features=5000)\n",
        "X = tfidf_vectorizer.fit_transform(df['clean_text'])"
      ]
    },
    {
      "cell_type": "code",
      "execution_count": 19,
      "metadata": {
        "colab": {
          "base_uri": "https://localhost:8080/"
        },
        "id": "Te1d8AJb_UOy",
        "outputId": "6dbc6b45-12fa-4bb9-97a6-9aa2889a3623"
      },
      "outputs": [
        {
          "name": "stderr",
          "output_type": "stream",
          "text": [
            "d:\\Work\\end-to-end projects\\X dataset_AI\\env\\Lib\\site-packages\\sklearn\\linear_model\\_logistic.py:1256: FutureWarning: 'multi_class' was deprecated in version 1.5 and will be removed in 1.7. Use OneVsRestClassifier(LogisticRegression(..)) instead. Leave it to its default value to avoid this warning.\n",
            "  warnings.warn(\n"
          ]
        },
        {
          "name": "stdout",
          "output_type": "stream",
          "text": [
            "Accuracy:  88.46 %\n",
            "              precision    recall  f1-score   support\n",
            "\n",
            "        -1.0       0.88      0.75      0.81      7152\n",
            "         0.0       0.85      0.97      0.91     11067\n",
            "         1.0       0.92      0.88      0.90     14375\n",
            "\n",
            "    accuracy                           0.88     32594\n",
            "   macro avg       0.88      0.87      0.87     32594\n",
            "weighted avg       0.89      0.88      0.88     32594\n",
            "\n"
          ]
        }
      ],
      "source": [
        "from sklearn.model_selection import train_test_split\n",
        "from sklearn.linear_model import LogisticRegression\n",
        "from sklearn.metrics import accuracy_score, classification_report\n",
        "\n",
        "# Split data into train and test sets\n",
        "x_train, x_test, y_train, y_test = train_test_split(X, df['category'], test_size=0.2, random_state=42)\n",
        "\n",
        "# Initialize the model\n",
        "model = LogisticRegression(max_iter=1000, multi_class='ovr')\n",
        "\n",
        "# Train the model\n",
        "model.fit(x_train, y_train)\n",
        "\n",
        "# Predict on the test set\n",
        "y_pred = model.predict(x_test)\n",
        "\n",
        "# Accuracy\n",
        "print(\"Accuracy: \",f'{accuracy_score(y_test, y_pred)*100:.2f}',\"%\")\n",
        "\n",
        "# Detailed classification report\n",
        "print(classification_report(y_test, y_pred))"
      ]
    },
    {
      "cell_type": "code",
      "execution_count": 21,
      "metadata": {
        "colab": {
          "base_uri": "https://localhost:8080/",
          "height": 472
        },
        "id": "ZxYp44EgFOJI",
        "outputId": "0b36ea3a-57c7-4fd9-f24e-edd2d62543c0"
      },
      "outputs": [
        {
          "data": {
            "image/png": "[encoded data removed]",
            "text/plain": [
              "<Figure size 640x480 with 2 Axes>"
            ]
          },
          "metadata": {},
          "output_type": "display_data"
        }
      ],
      "source": [
        "# Optional: Confusion Matrix (to see performance across classes)\n",
        "from sklearn.metrics import confusion_matrix\n",
        "import seaborn as sns\n",
        "import matplotlib.pyplot as plt\n",
        "\n",
        "cm = confusion_matrix(y_test, y_pred, labels=[-1, 0, 1])\n",
        "sns.heatmap(cm, annot=True, fmt='d', cmap='Blues', xticklabels=['-1', '0', '1'], yticklabels=['-1', '0', '1'])\n",
        "plt.xlabel('Predicted')\n",
        "plt.ylabel('True')\n",
        "plt.title('Confusion Matrix')\n",
        "plt.show()"
      ]
    },
    {
      "cell_type": "code",
      "execution_count": 22,
      "metadata": {
        "colab": {
          "base_uri": "https://localhost:8080/"
        },
        "id": "Ujxs8W4VJIqJ",
        "outputId": "5a528ab8-8e08-4681-f24c-f9ce534688d1"
      },
      "outputs": [
        {
          "name": "stdout",
          "output_type": "stream",
          "text": [
            "['let state govt handle law order drag modi resolve street fights']\n"
          ]
        },
        {
          "data": {
            "text/plain": [
              "array([-1.])"
            ]
          },
          "execution_count": 22,
          "metadata": {},
          "output_type": "execute_result"
        }
      ],
      "source": [
        "# practical prediction of this model\n",
        "sample_tweet = \"let state govt handle law and order why drag modi resolve street fights\"\n",
        "\n",
        "# cleaning sample\n",
        "clean_sample = cleaning(sample_tweet)\n",
        "sample_tokens = word_tokenize(clean_sample)\n",
        "sample_nsw = [remove_stopwords(sample_tokens)]\n",
        "print(sample_nsw)\n",
        "sample_vector = tfidf_vectorizer.transform(sample_nsw)\n",
        "model.predict(sample_vector)"
      ]
    },
    {
      "cell_type": "code",
      "execution_count": 23,
      "metadata": {},
      "outputs": [
        {
          "data": {
            "text/plain": [
              "['tfidf_vectorizer.pkl']"
            ]
          },
          "execution_count": 23,
          "metadata": {},
          "output_type": "execute_result"
        }
      ],
      "source": [
        "# Save the model\n",
        "import joblib\n",
        "\n",
        "joblib.dump(model, 'model.pkl')\n",
        "joblib.dump(tfidf_vectorizer, 'tfidf_vectorizer.pkl')"
      ]
    }
  ],
  "metadata": {
    "colab": {
      "provenance": []
    },
    "kernelspec": {
      "display_name": "env",
      "language": "python",
      "name": "python3"
    },
    "language_info": {
      "codemirror_mode": {
        "name": "ipython",
        "version": 3
      },
      "file_extension": ".py",
      "mimetype": "text/x-python",
      "name": "python",
      "nbconvert_exporter": "python",
      "pygments_lexer": "ipython3",
      "version": "3.12.8"
    }
  },
  "nbformat": 4,
  "nbformat_minor": 0
}
